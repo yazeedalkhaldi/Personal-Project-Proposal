{
 "cells": [
  {
   "cell_type": "markdown",
   "id": "f42676a6",
   "metadata": {},
   "source": [
    "# Project Proposal "
   ]
  },
  {
   "cell_type": "markdown",
   "id": "1200e028",
   "metadata": {},
   "source": [
    "# Research Questions"
   ]
  },
  {
   "cell_type": "markdown",
   "id": "f3fab5d4",
   "metadata": {},
   "source": [
    "## 1. Spending Time with Friends and Loneliness"
   ]
  },
  {
   "cell_type": "markdown",
   "id": "591a40a4",
   "metadata": {},
   "source": [
    "### Research Question: How does spending time with friends affect a person's loneliness?"
   ]
  },
  {
   "cell_type": "markdown",
   "id": "7d287eb8",
   "metadata": {},
   "source": [
    "### Motivation: This research could reveal the influence of social interactions on alleviating feelings of loneliness. Understanding this relationship can be particularly valuable for mental health interventions focused on social connection."
   ]
  },
  {
   "cell_type": "markdown",
   "id": "a35ed937",
   "metadata": {},
   "source": [
    "## Variables:"
   ]
  },
  {
   "cell_type": "markdown",
   "id": "71116fbd",
   "metadata": {},
   "source": [
    "Loneliness - Companionship (LONELY_ucla_loneliness_scale_companionship): Measures feelings of lacking companionship, with responses from \"Never\" to \"Often.\""
   ]
  },
  {
   "cell_type": "markdown",
   "id": "096d27d0",
   "metadata": {},
   "source": [
    "Time spent with friends (CONNECTION_social_time_friends_p7d_grouped): Tracks weekly hours spent socializing with friends, categorized as \"No time,\" \"Less than 1 hour,\" \"1 to 4 hours,\" or \"5 or more hours.\""
   ]
  },
  {
   "cell_type": "markdown",
   "id": "a9fab93f",
   "metadata": {},
   "source": [
    "## Visualization and Summary Statistics:"
   ]
  },
  {
   "cell_type": "markdown",
   "id": "27ed1d62",
   "metadata": {},
   "source": [
    "Bar Plot: Illustrate average loneliness scores across time categories to visualize differences."
   ]
  },
  {
   "cell_type": "markdown",
   "id": "6c9fed38",
   "metadata": {},
   "source": [
    "Correlation Analysis: Calculate a Spearman correlation to assess the association between time spent with friends and companionship levels."
   ]
  },
  {
   "cell_type": "markdown",
   "id": "a25a743c",
   "metadata": {},
   "source": [
    "### Justification: These visualizations and analyses can reveal whether more time spent with friends correlates with reduced feelings of loneliness."
   ]
  },
  {
   "cell_type": "markdown",
   "id": "726ba7d4",
   "metadata": {},
   "source": [
    "## Analysis Plan"
   ]
  },
  {
   "cell_type": "markdown",
   "id": "3e564237",
   "metadata": {},
   "source": [
    "### Method: Spearman correlation analysis to identify potential associations between time spent with friends and loneliness."
   ]
  },
  {
   "cell_type": "markdown",
   "id": "20c98d79",
   "metadata": {},
   "source": [
    "### Assumptions: Both variables are ordinal and non-normally distributed, making a non-parametric approach suitable."
   ]
  },
  {
   "cell_type": "markdown",
   "id": "79cd8adf",
   "metadata": {},
   "source": [
    "## Hypotheses/Results and Discussion"
   ]
  },
  {
   "cell_type": "markdown",
   "id": "c63703d3",
   "metadata": {},
   "source": [
    "Hypothesis: Greater time spent with friends will correlate with lower feelings of loneliness and increased companionship.\n"
   ]
  },
  {
   "cell_type": "markdown",
   "id": "1cc523cc",
   "metadata": {},
   "source": [
    "Expected Relevance: A significant negative correlation between time with friends and loneliness would support social interaction as a key factor in combating loneliness, informing mental health strategies."
   ]
  },
  {
   "cell_type": "markdown",
   "id": "f856deaf",
   "metadata": {},
   "source": [
    "## 2. Walking and Physical Health"
   ]
  },
  {
   "cell_type": "markdown",
   "id": "9dcc8fbd",
   "metadata": {},
   "source": [
    "### Research Question: In what ways does walking affect your physical health?"
   ]
  },
  {
   "cell_type": "markdown",
   "id": "9b94ffef",
   "metadata": {},
   "source": [
    "### Motivation: Exploring this relationship can highlight whether regular walking is associated with better physical health ratings. This may be relevant for public health campaigns encouraging physical activity as a means of improving health."
   ]
  },
  {
   "cell_type": "markdown",
   "id": "71f06bcd",
   "metadata": {},
   "source": [
    "## Variables"
   ]
  },
  {
   "cell_type": "markdown",
   "id": "34054845",
   "metadata": {},
   "source": [
    "Self-rated physical health (WELLNESS_self_rated_physical_health): A self-assessment rating, from \"Poor\" to \"Excellent.\""
   ]
  },
  {
   "cell_type": "markdown",
   "id": "b91ce873",
   "metadata": {},
   "source": [
    "Frequency of walking with others (CONNECTION_activities_walk_p3m): Tracks how often participants walk with others, ranging from \"Not in the past three months\" to \"Daily or almost daily.\""
   ]
  },
  {
   "cell_type": "markdown",
   "id": "50d8ec20",
   "metadata": {},
   "source": [
    "## Visualization and Summary Statistics:"
   ]
  },
  {
   "cell_type": "markdown",
   "id": "0a9591d1",
   "metadata": {},
   "source": [
    "Box Plot: Compare physical health ratings across categories of walking frequency to visualize the impact."
   ]
  },
  {
   "cell_type": "markdown",
   "id": "21846a17",
   "metadata": {},
   "source": [
    "Mean Comparison: Calculate mean physical health ratings for each walking category."
   ]
  },
  {
   "cell_type": "markdown",
   "id": "972ca329",
   "metadata": {},
   "source": [
    "### Justification: These visualizations allow us to see if physical health scores tend to be higher among those who frequently walk with others, suggesting a positive impact."
   ]
  },
  {
   "cell_type": "markdown",
   "id": "5def6f7b",
   "metadata": {},
   "source": [
    "## Analysis Plan"
   ]
  },
  {
   "cell_type": "markdown",
   "id": "6d9a63b4",
   "metadata": {},
   "source": [
    "Method: An ANOVA test or Kruskal-Wallis test could assess if physical health ratings significantly differ across walking frequency groups."
   ]
  },
  {
   "cell_type": "markdown",
   "id": "e7cef2da",
   "metadata": {},
   "source": [
    "Assumptions: Ordinal data with an assumed monotonic relationship between physical health and walking frequency, appropriate for non-parametric testing."
   ]
  },
  {
   "cell_type": "markdown",
   "id": "60909b80",
   "metadata": {},
   "source": [
    "## Hypotheses/Results and Discussion"
   ]
  },
  {
   "cell_type": "markdown",
   "id": "ce9b8595",
   "metadata": {},
   "source": [
    "Hypothesis: Higher walking frequency with others will correspond to better self-rated physical health scores."
   ]
  },
  {
   "cell_type": "markdown",
   "id": "a9b9027e",
   "metadata": {},
   "source": [
    "Expected Relevance: Confirming this hypothesis could support public health recommendations promoting social physical activities, such as walking with friends, for health improvement."
   ]
  },
  {
   "cell_type": "markdown",
   "id": "94224ffa",
   "metadata": {},
   "source": [
    "## 3. Phone Use and Feeling Trapped"
   ]
  },
  {
   "cell_type": "markdown",
   "id": "8274e381",
   "metadata": {},
   "source": [
    "### Research Question: Is there any correspondance between using your phone and frequency of feeling trapped as indicated by the Malach Pines burnout measure?"
   ]
  },
  {
   "cell_type": "markdown",
   "id": "4684de12",
   "metadata": {},
   "source": [
    "### Motivation: This analysis could identify potential links between technology use and burnout symptoms, especially relevant in an era where screen time and mental well-being are significant concerns."
   ]
  },
  {
   "cell_type": "markdown",
   "id": "ac14fe76",
   "metadata": {},
   "source": [
    "## Variables"
   ]
  },
  {
   "cell_type": "markdown",
   "id": "ba5a0685",
   "metadata": {},
   "source": [
    "Feeling trapped (WELLNESS_malach_pines_burnout_measure_trapped): Measures how often individuals feel trapped, from \"Never\" to \"Always.\""
   ]
  },
  {
   "cell_type": "markdown",
   "id": "a0e38530",
   "metadata": {},
   "source": [
    "Phone use with friends/family (CONNECTION_activities_phone_p3m): Tracks phone use frequency, ranging from \"Not in the past three months\" to \"Daily or almost daily.\""
   ]
  },
  {
   "cell_type": "markdown",
   "id": "db414a99",
   "metadata": {},
   "source": [
    "## Visualization and Summary Statistics:"
   ]
  },
  {
   "cell_type": "markdown",
   "id": "0ae3895b",
   "metadata": {},
   "source": [
    "Scatter Plot or Cross Tabulation: Display burnout feelings across different levels of phone use."
   ]
  },
  {
   "cell_type": "markdown",
   "id": "61871535",
   "metadata": {},
   "source": [
    "Chi-square Test: A chi-square test of independence could assess if there’s a significant association between phone use and feeling trapped."
   ]
  },
  {
   "cell_type": "markdown",
   "id": "2fff36f0",
   "metadata": {},
   "source": [
    "### Justification: These methods allow us to determine if frequent phone use is associated with higher burnout feelings, potentially providing insights into the effects of screen time on mental well-being."
   ]
  },
  {
   "cell_type": "markdown",
   "id": "3744d37b",
   "metadata": {},
   "source": [
    "## Analysis Plan "
   ]
  },
  {
   "cell_type": "markdown",
   "id": "e46431d2",
   "metadata": {},
   "source": [
    "Method: A chi-square test for independence, comparing the distribution of burnout feelings across phone use frequency groups."
   ]
  },
  {
   "cell_type": "markdown",
   "id": "60d30c3c",
   "metadata": {},
   "source": [
    "Assumptions: Variables are categorical, making chi-square a suitable test. A large enough sample size ensures sufficient cell counts."
   ]
  },
  {
   "cell_type": "markdown",
   "id": "f66fc67a",
   "metadata": {},
   "source": [
    "## Hypotheses/Results and Discussion"
   ]
  },
  {
   "cell_type": "markdown",
   "id": "341aa998",
   "metadata": {},
   "source": [
    "Hypothesis: More frequent phone use with friends and family is positively associated with a feeling of being trapped, indicating a potential link between screen time and burnout symptoms."
   ]
  },
  {
   "cell_type": "markdown",
   "id": "f478c563",
   "metadata": {},
   "source": [
    "Expected Relevance: A significant association could encourage awareness of potential downsides of phone reliance, especially regarding mental health and well-being."
   ]
  },
  {
   "cell_type": "markdown",
   "id": "6ab686cc",
   "metadata": {},
   "source": [
    "# Written Communication"
   ]
  },
  {
   "cell_type": "markdown",
   "id": "94e0d267",
   "metadata": {},
   "source": [
    "This proposal is clearly articulated, with each section directly addressing the rubric criteria and presenting a logical, cohesive structure. Explanations are concise and tailored to meet the rubric’s standards for clarity and relevance."
   ]
  }
 ],
 "metadata": {
  "kernelspec": {
   "display_name": "Python 3 (ipykernel)",
   "language": "python",
   "name": "python3"
  },
  "language_info": {
   "codemirror_mode": {
    "name": "ipython",
    "version": 3
   },
   "file_extension": ".py",
   "mimetype": "text/x-python",
   "name": "python",
   "nbconvert_exporter": "python",
   "pygments_lexer": "ipython3",
   "version": "3.11.6"
  }
 },
 "nbformat": 4,
 "nbformat_minor": 5
}
